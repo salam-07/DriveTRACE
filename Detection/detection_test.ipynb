{
 "cells": [
  {
   "cell_type": "markdown",
   "id": "bc9bdfbc",
   "metadata": {},
   "source": [
    "### Import Modules"
   ]
  },
  {
   "cell_type": "code",
   "execution_count": null,
   "id": "a8cf3582",
   "metadata": {},
   "outputs": [],
   "source": [
    "from ultralytics import YOLO\n",
    "import cv2\n",
    "import numpy as np\n",
    "import matplotlib.pyplot as plt\n",
    "import supervision as sv"
   ]
  },
  {
   "cell_type": "markdown",
   "id": "58f6f5e7",
   "metadata": {},
   "source": [
    "### Load Model"
   ]
  },
  {
   "cell_type": "code",
   "execution_count": null,
   "id": "7e59d878",
   "metadata": {},
   "outputs": [],
   "source": [
    "model = YOLO(\"yolov8s.pt\")  # Load the YOLOv8 model\n",
    "model.fuse()"
   ]
  },
  {
   "cell_type": "code",
   "execution_count": null,
   "id": "9b1774ab",
   "metadata": {},
   "outputs": [],
   "source": [
    "class_names = model.model.names  # Get class names from the model\n",
    "\n",
    "#class_names "
   ]
  },
  {
   "cell_type": "code",
   "execution_count": null,
   "id": "dab2182e",
   "metadata": {},
   "outputs": [],
   "source": [
    "#select class id's needed\n",
    "classes = [2, 3, 5, 7]"
   ]
  },
  {
   "cell_type": "markdown",
   "id": "9a02f08c",
   "metadata": {},
   "source": [
    "### Plot frame from video"
   ]
  },
  {
   "cell_type": "code",
   "execution_count": null,
   "id": "e75d1de2",
   "metadata": {},
   "outputs": [],
   "source": [
    "#create a frame generator\n",
    "generator = sv.get_video_frames_generator('test1.mp4')\n",
    "\n",
    "iterator = iter(generator)\n",
    "frame = next(iterator)\n",
    "sv.plot_image(frame, (10, 10))"
   ]
  },
  {
   "cell_type": "markdown",
   "id": "0cefe7f0",
   "metadata": {},
   "source": [
    "### Detect Vehicles from Frame"
   ]
  },
  {
   "cell_type": "code",
   "execution_count": null,
   "id": "517dc16a",
   "metadata": {},
   "outputs": [],
   "source": [
    "results = model(frame, verbose=False)[0]\n",
    "\n",
    "#convert to detections\n",
    "detections = sv.Detections.from_ultralytics(results)\n",
    "\n",
    "#only consider classes we need\n",
    "detections = detections[np.isin(detections.class_id, classes)]\n",
    "\n",
    "#create instance of box annotator\n",
    "box_annotator = sv.BoxAnnotator(thickness=2)\n",
    "\n",
    "#annotate the frame\n",
    "annotated_frame = box_annotator.annotate(scene=frame.copy(), detections=detections)\n",
    "\n",
    "#format and get labels\n",
    "labels = []\n",
    "for confidence, class_id in zip(detections.confidence, detections.class_id):\n",
    "    label = f\"{class_names[class_id]} {confidence:0.2f}\"\n",
    "    labels.append(label)\n",
    "\n",
    "#overlay labels in bounding box\n",
    "for box, label in zip(detections.xyxy, labels):\n",
    "    x1, y1, x2, y2 = box.astype(int)\n",
    "\n",
    "    #display the text\n",
    "    cv2.putText(annotated_frame, label, (x1, y1 - 10), cv2.FONT_HERSHEY_SIMPLEX, 0.5, (255, 255, 255), 2)\n",
    "\n",
    "sv.plot_image(annotated_frame, (10, 10))"
   ]
  },
  {
   "cell_type": "markdown",
   "id": "4303e058",
   "metadata": {},
   "source": [
    "### Track Vehicles"
   ]
  },
  {
   "cell_type": "code",
   "execution_count": null,
   "id": "b22d8230",
   "metadata": {},
   "outputs": [],
   "source": [
    "sv.VideoInfo.from_video_path('test1.mp4')"
   ]
  },
  {
   "cell_type": "code",
   "execution_count": null,
   "id": "63b56628",
   "metadata": {},
   "outputs": [],
   "source": [
    "#create bytetracker instance\n",
    "byte_tracker = sv.ByteTrack(frame_rate=29)\n",
    "\n",
    "#create trace annotator\n",
    "trace_annotator = sv.TraceAnnotator(\n",
    "    thickness=2,\n",
    "    trace_length=30\n",
    ")"
   ]
  },
  {
   "cell_type": "code",
   "execution_count": null,
   "id": "df41132e",
   "metadata": {},
   "outputs": [],
   "source": [
    "#define function for processing frames\n",
    "def process_frame(frame):\n",
    "    results = model(frame, verbose=False)[0]\n",
    "\n",
    "    #convert to detections\n",
    "    detections = sv.Detections.from_ultralytics(results)\n",
    "\n",
    "    #only consider classes we need\n",
    "    detections = detections[np.isin(detections.class_id, classes)]\n",
    "\n",
    "    #tracking detection\n",
    "    detections = byte_tracker.update_with_detections(detections)\n",
    "\n",
    "    labels = []\n",
    "    for confidence, class_id, tracker_id in zip(detections.confidence, detections.class_id, detections.tracker_id):\n",
    "        label = f\"{tracker_id} {class_names[class_id]} {confidence:0.2f}\"\n",
    "        labels.append(label)\n",
    "\n",
    "    #update trace annotator\n",
    "    annotated_frame = trace_annotator.annotate(scene=frame.copy(), detections=detections)\n",
    "\n",
    "    #uodate box annotator\n",
    "    annotated_frame = box_annotator.annotate(scene=annotated_frame, detections=detections)\n",
    "\n",
    "    #overlay labels in bounding box\n",
    "    for box, label in zip(detections.xyxy, labels):\n",
    "        x1, y1, x2, y2 = box.astype(int)\n",
    "\n",
    "        #display the text\n",
    "        cv2.putText(annotated_frame, label, (x1, y1 - 10), cv2.FONT_HERSHEY_SIMPLEX, 0.5, (255, 255, 255), 2)\n",
    "\n",
    "    return annotated_frame\n",
    "    "
   ]
  },
  {
   "cell_type": "code",
   "execution_count": null,
   "id": "5b765566",
   "metadata": {},
   "outputs": [],
   "source": [
    "# ...existing code...\n",
    "video_path = 'test1.mp4'\n",
    "video_cap = cv2.VideoCapture(video_path)\n",
    "\n",
    "# Check if video opened successfully\n",
    "if not video_cap.isOpened():\n",
    "    print(\"Error: Could not open video file\")\n",
    "    exit()\n",
    "\n",
    "# Setup video writer for output\n",
    "output_path = 'tracked_output.mp4'\n",
    "fourcc = cv2.VideoWriter_fourcc(*'mp4v')\n",
    "fps = 29\n",
    "out = cv2.VideoWriter(output_path, fourcc, fps, (1280, 720))\n",
    "\n",
    "frame_count = 0\n",
    "total_frames = int(video_cap.get(cv2.CAP_PROP_FRAME_COUNT))\n",
    "\n",
    "try:\n",
    "    print(f\"Processing {total_frames} frames...\")\n",
    "    while True:\n",
    "        success, frame = video_cap.read()\n",
    "        if not success:\n",
    "            break\n",
    "        \n",
    "        frame_count += 1\n",
    "        \n",
    "        # Resize frame\n",
    "        frame = cv2.resize(frame, (1280, 720))\n",
    "        \n",
    "        # Process frame\n",
    "        processed_frame = process_frame(frame)\n",
    "        \n",
    "        # Convert back to BGR for video writer\n",
    "        processed_frame_bgr = cv2.cvtColor(processed_frame, cv2.COLOR_RGB2BGR)\n",
    "        \n",
    "        # Write frame to output video\n",
    "        out.write(processed_frame_bgr)\n",
    "        \n",
    "        # Print progress every 30 frames\n",
    "        if frame_count % 30 == 0:\n",
    "            progress = (frame_count / total_frames) * 100\n",
    "            print(f\"Progress: {frame_count}/{total_frames} frames ({progress:.1f}%)\")\n",
    "\n",
    "except Exception as e:\n",
    "    print(f\"An error occurred: {e}\")\n",
    "\n",
    "finally:\n",
    "    # Clean up\n",
    "    video_cap.release()\n",
    "    out.release()\n",
    "    print(f\"Video processing completed. Output saved as: {output_path}\")\n",
    "    print(f\"Processed {frame_count} frames total.\")"
   ]
  }
 ],
 "metadata": {
  "kernelspec": {
   "display_name": "Python 3",
   "language": "python",
   "name": "python3"
  },
  "language_info": {
   "codemirror_mode": {
    "name": "ipython",
    "version": 3
   },
   "file_extension": ".py",
   "mimetype": "text/x-python",
   "name": "python",
   "nbconvert_exporter": "python",
   "pygments_lexer": "ipython3",
   "version": "3.13.5"
  }
 },
 "nbformat": 4,
 "nbformat_minor": 5
}
